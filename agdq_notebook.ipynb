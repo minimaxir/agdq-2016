{
 "cells": [
  {
   "cell_type": "markdown",
   "metadata": {},
   "source": [
    "# AGQD Data\n",
    "\n",
    "By Max Woolf\n",
    "\n",
    "*This notebook is licensed under the MIT License. If you use the code or data visualization designs contained within this notebook, it would be greatly appreciated if proper attribution is given back to this notebook and/or myself. Thanks! :)*"
   ]
  },
  {
   "cell_type": "code",
   "execution_count": 141,
   "metadata": {
    "collapsed": false
   },
   "outputs": [
    {
     "data": {
      "text/plain": [
       "R version 3.2.2 (2015-08-14)\n",
       "Platform: x86_64-apple-darwin13.4.0 (64-bit)\n",
       "Running under: OS X 10.11.2 (El Capitan)\n",
       "\n",
       "locale:\n",
       "[1] en_US.UTF-8/en_US.UTF-8/en_US.UTF-8/C/en_US.UTF-8/en_US.UTF-8\n",
       "\n",
       "attached base packages:\n",
       "[1] grid      stats     graphics  grDevices utils     datasets  methods  \n",
       "[8] base     \n",
       "\n",
       "other attached packages:\n",
       "[1] wordcloud_2.5      stringr_1.0.0      digest_0.6.8       RColorBrewer_1.1-2\n",
       "[5] scales_0.3.0       extrafont_0.17     ggplot2_2.0.0      dplyr_0.4.3       \n",
       "[9] readr_0.1.1       \n",
       "\n",
       "loaded via a namespace (and not attached):\n",
       " [1] Rcpp_0.12.1      Rttf2pt1_1.3.3   magrittr_1.5     munsell_0.4.2   \n",
       " [5] uuid_0.1-2       colorspace_1.2-6 R6_2.1.1         plyr_1.8.3      \n",
       " [9] tools_3.2.2      parallel_3.2.2   gtable_0.1.2     DBI_0.3.1       \n",
       "[13] extrafontdb_1.0  lazyeval_0.1.10  assertthat_0.1   IRdisplay_0.3   \n",
       "[17] repr_0.4         base64enc_0.1-3  IRkernel_0.5     slam_0.1-32     \n",
       "[21] evaluate_0.8     labeling_0.3     rzmq_0.7.7       stringi_0.5-5   \n",
       "[25] jsonlite_0.9.17 "
      ]
     },
     "execution_count": 141,
     "metadata": {},
     "output_type": "execute_result"
    }
   ],
   "source": [
    "options(warn = -1)\n",
    "\n",
    "# IMPORTANT: This assumes that all packages in \"Rstart.R\" are installed,\n",
    "# and the fonts \"Source Sans Pro\" and \"Open Sans Condensed Bold\" are installed\n",
    "# via extrafont. If ggplot2 charts fail to render, you may need to change/remove the theme call.\n",
    "\n",
    "source(\"Rstart.R\")\n",
    "\n",
    "sessionInfo()"
   ]
  },
  {
   "cell_type": "markdown",
   "metadata": {},
   "source": [
    "## Clean up AGQD Data"
   ]
  },
  {
   "cell_type": "code",
   "execution_count": 142,
   "metadata": {
    "collapsed": false
   },
   "outputs": [],
   "source": [
    "df_donations <- read_csv(\"agdq_donations.csv\")\n",
    "df_comments <- read_csv(\"agdq_comments.csv\")\n",
    "df_runs <- read_csv(\"agdq_runs.csv\")"
   ]
  },
  {
   "cell_type": "markdown",
   "metadata": {},
   "source": [
    "### Fix donation data"
   ]
  },
  {
   "cell_type": "code",
   "execution_count": 143,
   "metadata": {
    "collapsed": false
   },
   "outputs": [
    {
     "name": "stdout",
     "output_type": "stream",
     "text": [
      "Source: local data frame [6 x 7]\n",
      "\n",
      "                                                 name.href\n",
      "                                                     (chr)\n",
      "1  https://gamesdonequick.com/tracker/donor/10249/agdq2016\n",
      "2 https://gamesdonequick.com/tracker/donor/254740/agdq2016\n",
      "3 https://gamesdonequick.com/tracker/donor/315713/agdq2016\n",
      "4 https://gamesdonequick.com/tracker/donor/315712/agdq2016\n",
      "5 https://gamesdonequick.com/tracker/donor/315709/agdq2016\n",
      "6  https://gamesdonequick.com/tracker/donor/12859/agdq2016\n",
      "Variables not shown: name.text (chr), time (chr), amount.href (chr),\n",
      "  amount.text (chr), index (int), url (chr)\n"
     ]
    },
    {
     "data": {
      "text/html": [
       "30528"
      ],
      "text/latex": [
       "30528"
      ],
      "text/markdown": [
       "30528"
      ],
      "text/plain": [
       "[1] 30528"
      ]
     },
     "execution_count": 143,
     "metadata": {},
     "output_type": "execute_result"
    }
   ],
   "source": [
    "print(df_donations %>% head())\n",
    "nrow(df_donations)"
   ]
  },
  {
   "cell_type": "code",
   "execution_count": 144,
   "metadata": {
    "collapsed": false
   },
   "outputs": [
    {
     "data": {
      "text/html": [
       "'20093'"
      ],
      "text/latex": [
       "'20093'"
      ],
      "text/markdown": [
       "'20093'"
      ],
      "text/plain": [
       "[1] \"20093\""
      ]
     },
     "execution_count": 144,
     "metadata": {},
     "output_type": "execute_result"
    }
   ],
   "source": [
    "getID <- function(x) {\n",
    "    return(strsplit(x,\"/\")[[1]][6])\n",
    "}\n",
    "\n",
    "getID(\"https://gamesdonequick.com/tracker/donor/20093/agdq2016\")"
   ]
  },
  {
   "cell_type": "code",
   "execution_count": 145,
   "metadata": {
    "collapsed": false,
    "scrolled": false
   },
   "outputs": [
    {
     "name": "stdout",
     "output_type": "stream",
     "text": [
      "Source: local data frame [6 x 2]\n",
      "\n",
      "      id donor_id\n",
      "   (chr)    (chr)\n",
      "1 246475    10249\n",
      "2 246472   254740\n",
      "3 246470   315713\n",
      "4 246468   315712\n",
      "5 246466   315709\n",
      "6 246465    12859\n"
     ]
    }
   ],
   "source": [
    "df_donations <- df_donations %>% mutate(id = sapply(amount.href, getID), donor_id = sapply(name.href, getID))\n",
    "\n",
    "print(df_donations %>% select(id, donor_id) %>% head())"
   ]
  },
  {
   "cell_type": "markdown",
   "metadata": {},
   "source": [
    "Date Format is: `January 9th, 2016, 8:11:59 PM`\n",
    "\n",
    "This is nonstandard and required hacky code to fix. You have been warned!"
   ]
  },
  {
   "cell_type": "code",
   "execution_count": 146,
   "metadata": {
    "collapsed": false
   },
   "outputs": [
    {
     "data": {
      "text/plain": [
       "[1] \"2016-01-09 20:11:59 PST\""
      ]
     },
     "execution_count": 146,
     "metadata": {},
     "output_type": "execute_result"
    }
   ],
   "source": [
    "formatDate <- function(x) {\n",
    "    tryCatch({\n",
    "    day_split <- strsplit(x, \" \")[[1]]\n",
    "    day_part <- day_split[2]\n",
    "    \n",
    "    # if single digit, numeric component of day must have a leading zero\n",
    "    day_leading <- sprintf(\"%02s\",substring(day_part,1,nchar(day_part)-3))\n",
    "    \n",
    "    day_split[2] <- day_leading\n",
    "    day_string_new <- paste(day_split, collapse=\" \")\n",
    "    day_date <- strptime(day_string_new, \"%B %d %Y, %r\")\n",
    "    return (as.POSIXct(day_date))\n",
    "    },\n",
    "    error = function(x) {return(NA)})\n",
    "}\n",
    "\n",
    "formatDate(\"January 9th, 2016, 8:11:59 PM\")"
   ]
  },
  {
   "cell_type": "code",
   "execution_count": 147,
   "metadata": {
    "collapsed": false
   },
   "outputs": [
    {
     "name": "stdout",
     "output_type": "stream",
     "text": [
      "Source: local data frame [6 x 1]\n",
      "\n",
      "  time_donated\n",
      "         (dbl)\n",
      "1   1452413570\n",
      "2   1452413218\n",
      "3   1452412967\n",
      "4   1452412725\n",
      "5   1452412487\n",
      "6   1452412452\n"
     ]
    }
   ],
   "source": [
    "df_donations <- df_donations %>% mutate(time_donated = sapply(time, formatDate))\n",
    "\n",
    "print(df_donations %>% select(time_donated) %>% head())"
   ]
  },
  {
   "cell_type": "code",
   "execution_count": 148,
   "metadata": {
    "collapsed": false
   },
   "outputs": [
    {
     "data": {
      "text/html": [
       "1024.99"
      ],
      "text/latex": [
       "1024.99"
      ],
      "text/markdown": [
       "1024.99"
      ],
      "text/plain": [
       "[1] 1024.99"
      ]
     },
     "execution_count": 148,
     "metadata": {},
     "output_type": "execute_result"
    }
   ],
   "source": [
    "getAmount <- function(x) {\n",
    "    num <- gsub(\",\", \"\", x)\n",
    "    return(as.numeric(substr(num,2,nchar(num))))\n",
    "}\n",
    "\n",
    "getAmount(\"$1,024.99\")"
   ]
  },
  {
   "cell_type": "code",
   "execution_count": 149,
   "metadata": {
    "collapsed": false
   },
   "outputs": [
    {
     "name": "stdout",
     "output_type": "stream",
     "text": [
      "Source: local data frame [6 x 1]\n",
      "\n",
      "  amount_donated\n",
      "           (dbl)\n",
      "1             20\n",
      "2             15\n",
      "3              5\n",
      "4            100\n",
      "5             20\n",
      "6              5\n"
     ]
    }
   ],
   "source": [
    "df_donations <- df_donations %>% mutate(amount_donated = sapply(amount.text, getAmount))\n",
    "\n",
    "print(df_donations %>% select(amount_donated) %>% head())"
   ]
  },
  {
   "cell_type": "code",
   "execution_count": 150,
   "metadata": {
    "collapsed": false
   },
   "outputs": [
    {
     "name": "stdout",
     "output_type": "stream",
     "text": [
      "Source: local data frame [6 x 5]\n",
      "\n",
      "      id                 donor amount_donated time_donated donor_id\n",
      "   (chr)                 (chr)          (dbl)        (dbl)    (chr)\n",
      "1 246475           (Anonymous)             20   1452413570    10249\n",
      "2 246472           (Anonymous)             15   1452413218   254740\n",
      "3 246470           (Anonymous)              5   1452412967   315713\n",
      "4 246468           (Anonymous)            100   1452412725   315712\n",
      "5 246466           (Anonymous)             20   1452412487   315709\n",
      "6 246465 A..., Narada (Narada)              5   1452412452    12859\n"
     ]
    }
   ],
   "source": [
    "df_donations <- df_donations %>% select(id, donor=name.text, amount_donated, time_donated, donor_id)\n",
    "\n",
    "print(df_donations %>% head())"
   ]
  },
  {
   "cell_type": "markdown",
   "metadata": {},
   "source": [
    "### Fix Comments Data\n",
    "\n",
    "Not much to be fixed fortunately."
   ]
  },
  {
   "cell_type": "code",
   "execution_count": 151,
   "metadata": {
    "collapsed": false
   },
   "outputs": [
    {
     "name": "stdout",
     "output_type": "stream",
     "text": [
      "Source: local data frame [6 x 4]\n",
      "\n",
      "                                                                           comment\n",
      "                                                                             (chr)\n",
      "1 I'm lucky enough that I've never had to experience the pain of losing a loved on\n",
      "2                                                                                 \n",
      "3                                                                            Magoo\n",
      "4 Been watching GDQ for years now and have always loved it. My grandpa was diagnos\n",
      "5                                                                                 \n",
      "6                                                                                 \n",
      "Variables not shown: bid_category (chr), bid_choice (chr), url (chr)\n"
     ]
    },
    {
     "data": {
      "text/html": [
       "29358"
      ],
      "text/latex": [
       "29358"
      ],
      "text/markdown": [
       "29358"
      ],
      "text/plain": [
       "[1] 29358"
      ]
     },
     "execution_count": 151,
     "metadata": {},
     "output_type": "execute_result"
    }
   ],
   "source": [
    "print(df_comments %>% head())\n",
    "nrow(df_comments)"
   ]
  },
  {
   "cell_type": "code",
   "execution_count": 152,
   "metadata": {
    "collapsed": false
   },
   "outputs": [
    {
     "name": "stdout",
     "output_type": "stream",
     "text": [
      "Source: local data frame [6 x 4]\n",
      "\n",
      "      id\n",
      "   (chr)\n",
      "1 208269\n",
      "2 232076\n",
      "3 215116\n",
      "4 237071\n",
      "5 239363\n",
      "6 235921\n",
      "Variables not shown: comment (chr), bid_category (chr), bid_choice (chr)\n"
     ]
    }
   ],
   "source": [
    "df_comments <- df_comments %>%\n",
    "                    mutate(id = sapply(url, getID)) %>%\n",
    "                    select(id, comment, bid_category = bid_category,\n",
    "                          bid_choice = bid_choice)\n",
    "\n",
    "print(df_comments %>% head())"
   ]
  },
  {
   "cell_type": "markdown",
   "metadata": {},
   "source": [
    "### Fix Run Data"
   ]
  },
  {
   "cell_type": "code",
   "execution_count": 153,
   "metadata": {
    "collapsed": false
   },
   "outputs": [
    {
     "name": "stdout",
     "output_type": "stream",
     "text": [
      "Source: local data frame [6 x 7]\n",
      "\n",
      "                               run_title.href\n",
      "                                        (chr)\n",
      "1 https://gamesdonequick.com/tracker/run/1295\n",
      "2 https://gamesdonequick.com/tracker/run/1596\n",
      "3 https://gamesdonequick.com/tracker/run/1597\n",
      "4 https://gamesdonequick.com/tracker/run/1598\n",
      "5 https://gamesdonequick.com/tracker/run/1599\n",
      "6 https://gamesdonequick.com/tracker/run/1600\n",
      "Variables not shown: run_title.text (chr), runner (chr), start_time (chr),\n",
      "  end_time (chr), index (int), url (chr)\n"
     ]
    },
    {
     "data": {
      "text/html": [
       "156"
      ],
      "text/latex": [
       "156"
      ],
      "text/markdown": [
       "156"
      ],
      "text/plain": [
       "[1] 156"
      ]
     },
     "execution_count": 153,
     "metadata": {},
     "output_type": "execute_result"
    }
   ],
   "source": [
    "print(df_runs %>% head())\n",
    "nrow(df_runs)"
   ]
  },
  {
   "cell_type": "code",
   "execution_count": 154,
   "metadata": {
    "collapsed": false
   },
   "outputs": [
    {
     "name": "stdout",
     "output_type": "stream",
     "text": [
      "Source: local data frame [6 x 3]\n",
      "\n",
      "                                   run_title start_time   end_time\n",
      "                                       (chr)      (dbl)      (dbl)\n",
      "1                              Agdq Pre-Show 1451838600 1451840400\n",
      "2                              Splatoon Any% 1451840400 1451844480\n",
      "3 Super Monkey Ball: Banana Blitz All Worlds 1451844480 1451848080\n",
      "4    Super Monkey Ball Expert Through Master 1451848080 1451849820\n",
      "5                        Rayman Legends Any% 1451849820 1451856900\n",
      "6          Kirby 64: The Crystal Shards 100% 1451856900 1451861898\n"
     ]
    }
   ],
   "source": [
    "df_runs <- df_runs %>%\n",
    "            mutate(start_time = sapply(start_time, formatDate), end_time = sapply(end_time, formatDate)) %>%\n",
    "            select(run_title = run_title.text, start_time, end_time)\n",
    "\n",
    "print(df_runs %>% head())"
   ]
  },
  {
   "cell_type": "markdown",
   "metadata": {},
   "source": [
    "### Merge time!"
   ]
  },
  {
   "cell_type": "code",
   "execution_count": 157,
   "metadata": {
    "collapsed": false
   },
   "outputs": [
    {
     "name": "stdout",
     "output_type": "stream",
     "text": [
      "Source: local data frame [6 x 8]\n",
      "\n",
      "      id donor_id                 donor amount_donated time_donated\n",
      "   (chr)    (chr)                 (chr)          (dbl)        (dbl)\n",
      "1 246475    10249           (Anonymous)             20   1452413570\n",
      "2 246472   254740           (Anonymous)             15   1452413218\n",
      "3 246470   315713           (Anonymous)              5   1452412967\n",
      "4 246468   315712           (Anonymous)            100   1452412725\n",
      "5 246466   315709           (Anonymous)             20   1452412487\n",
      "6 246465    12859 A..., Narada (Narada)              5   1452412452\n",
      "Variables not shown: comment (chr), bid_category (chr), bid_choice (chr)\n"
     ]
    }
   ],
   "source": [
    "df <- df_donations %>% left_join(df_comments, by=\"id\") %>%\n",
    "        select(id, donor_id, donor, amount_donated, time_donated, comment, bid_category, bid_choice)\n",
    "\n",
    "# Fix a few problematic donations manually\n",
    "df[which(df$id==212588),7:8] <- c(\"Super Mario Maker Custom Level Blind Race\", \"Mario Maker Hard Level race\")\n",
    "df[which(df$id==215656),7:8] <- c(\"The Legend Of Zelda: Majora's Mask 4p Co-Op 100%\", \"Blindforded Co-op Majora Fight\")\n",
    "\n",
    "print(df %>% head())"
   ]
  },
  {
   "cell_type": "code",
   "execution_count": 158,
   "metadata": {
    "collapsed": false
   },
   "outputs": [
    {
     "data": {
      "text/html": [
       "'Bloodborne Any%'"
      ],
      "text/latex": [
       "'Bloodborne Any%'"
      ],
      "text/markdown": [
       "'Bloodborne Any%'"
      ],
      "text/plain": [
       "[1] \"Bloodborne Any%\""
      ]
     },
     "execution_count": 158,
     "metadata": {},
     "output_type": "execute_result"
    }
   ],
   "source": [
    "whenRunDonated <- function(x) {\n",
    "    # if donation is > start time and < end time, that was when the donation was made\n",
    "    run_truth_table = (x > df_runs$start_time) & (x < df_runs$end_time)\n",
    "    if (sum(run_truth_table, na.rm=T) > 0) {return (df_runs$run_title[which(run_truth_table)])}\n",
    "    else {return (NA)}\n",
    "    \n",
    "}\n",
    "\n",
    "whenRunDonated(1452389135)"
   ]
  },
  {
   "cell_type": "code",
   "execution_count": 159,
   "metadata": {
    "collapsed": false
   },
   "outputs": [
    {
     "name": "stdout",
     "output_type": "stream",
     "text": [
      "Source: local data frame [6 x 1]\n",
      "\n",
      "                        run_during_donated\n",
      "                                     (chr)\n",
      "1                                       NA\n",
      "2                                       NA\n",
      "3                                       NA\n",
      "4 Final Fantasy Iv Any% No 64 Floor Glitch\n",
      "5 Final Fantasy Iv Any% No 64 Floor Glitch\n",
      "6 Final Fantasy Iv Any% No 64 Floor Glitch\n"
     ]
    }
   ],
   "source": [
    "df <- df %>% mutate(run_during_donated = sapply(time_donated, whenRunDonated))\n",
    "\n",
    "print(df %>% select(run_during_donated) %>% head())"
   ]
  },
  {
   "cell_type": "markdown",
   "metadata": {},
   "source": [
    "Done!"
   ]
  },
  {
   "cell_type": "code",
   "execution_count": 160,
   "metadata": {
    "collapsed": false
   },
   "outputs": [],
   "source": [
    "df_write <- df\n",
    "df_write <- df_write %>% mutate(time_donated = format(as.POSIXlt(time_donated, origin = \"1970-01-01\"), \"%Y-%m-%d %H:%M:%S\"))\n",
    "df_write[is.na(df_write)] <- ''\n",
    "\n",
    "write.csv(df_write, \"agqd_2016_data.csv\", row.names=F)\n",
    "\n",
    "rm(df_write)"
   ]
  },
  {
   "cell_type": "markdown",
   "metadata": {
    "collapsed": true
   },
   "source": [
    "## Visualizations\n",
    "\n",
    "Start with a cumulative dist."
   ]
  },
  {
   "cell_type": "code",
   "execution_count": 185,
   "metadata": {
    "collapsed": false
   },
   "outputs": [
    {
     "name": "stdout",
     "output_type": "stream",
     "text": [
      "Source: local data frame [6 x 4]\n",
      "\n",
      "         time_donated amount_donated cumsum   day\n",
      "               (time)          (dbl)  (dbl) (chr)\n",
      "1 2015-12-09 07:15:19              1      1    09\n",
      "2 2015-12-27 17:12:16              1      2    27\n",
      "3 2016-01-01 07:24:13              3      5    01\n",
      "4 2016-01-02 12:34:44              5     10    02\n",
      "5 2016-01-03 06:02:50              5     15    03\n",
      "6 2016-01-03 06:07:04              5     20    03\n",
      "[1] 30540\n"
     ]
    }
   ],
   "source": [
    "df_cumsum <- df %>% select(time_donated, amount_donated) %>%\n",
    "                filter(!is.na(amount_donated)) %>%\n",
    "                arrange(time_donated) %>%\n",
    "                mutate(time_donated = as.POSIXct(time_donated, origin = \"1970-01-01\"),\n",
    "                    cumsum = cumsum(amount_donated),\n",
    "                    day = format(time_donated, \"%d\"))\n",
    "\n",
    "print(df_cumsum %>% head())\n",
    "print(nrow(df_cumsum))"
   ]
  },
  {
   "cell_type": "code",
   "execution_count": 186,
   "metadata": {
    "collapsed": false
   },
   "outputs": [],
   "source": [
    "plot <- ggplot(df_cumsum, aes(x=time_donated, y=cumsum, color=day)) +\n",
    "            geom_line() +\n",
    "            fte_theme() +\n",
    "            scale_x_datetime(limits=c(as.POSIXct(\"2016-01-03 00:00:00\"), as.POSIXct(\"2016-01-10 00:00:00\"))) +\n",
    "            scale_y_continuous(label=dollar) +\n",
    "            theme(axis.title.x = element_blank(), axis.title.y = element_blank()) +\n",
    "            labs(title=\"Cumulative $ Amount Raised For Charity by AGDQ 2016\")\n",
    "\n",
    "max_save(plot, \"agdq-1\", \"Games Done Quick\")"
   ]
  },
  {
   "cell_type": "markdown",
   "metadata": {},
   "source": [
    "![](agdq-1.png)"
   ]
  },
  {
   "cell_type": "code",
   "execution_count": 163,
   "metadata": {
    "collapsed": false
   },
   "outputs": [
    {
     "name": "stdout",
     "output_type": "stream",
     "text": [
      "[1] 39.61902\n",
      "[1] 20\n",
      "[1] 0.9704342\n"
     ]
    }
   ],
   "source": [
    "mean <- mean(df$amount_donated, na.rm=T)\n",
    "median <- median(df$amount_donated, na.rm=T)\n",
    "lte_100 <- sum(df$amount_donated <= 100, na.rm=T) / nrow(df)\n",
    "\n",
    "print(mean)\n",
    "print(median)\n",
    "print(lte_100)"
   ]
  },
  {
   "cell_type": "code",
   "execution_count": 164,
   "metadata": {
    "collapsed": false
   },
   "outputs": [],
   "source": [
    "plot <- ggplot(df, aes(x=amount_donated)) +\n",
    "            geom_histogram(binwidth=1, fill=\"#2e8ece\") +\n",
    "            fte_theme() +\n",
    "            scale_x_continuous(label=dollar, limits=c(0,101), breaks=seq(0,100, by=10)) +\n",
    "            scale_y_continuous(label=comma) +\n",
    "            labs(title=\"Histogram of 97% of AGDQ 2016 Donations\", x=\"Donation Amount\", y=\"# of Donations\")\n",
    "\n",
    "max_save(plot, \"agdq-2\", \"Games Done Quick\")"
   ]
  },
  {
   "cell_type": "markdown",
   "metadata": {},
   "source": [
    "![](agdq-2.png)"
   ]
  },
  {
   "cell_type": "code",
   "execution_count": 165,
   "metadata": {
    "collapsed": false
   },
   "outputs": [
    {
     "name": "stdout",
     "output_type": "stream",
     "text": [
      "Source: local data frame [6 x 2]\n",
      "\n",
      "                                                 run_during_donated count\n",
      "                                                             (fctr) (int)\n",
      "1                 The Legend Of Zelda:\\nMajora's Mask 4p Co-Op 100%  1575\n",
      "2                         Final Fantasy Iv Any%\\nNo 64 Floor Glitch  1515\n",
      "3                                 Super Metroid\\nReverse Boss Order  1470\n",
      "4       The Legend Of Zelda: A Link\\nTo The Past Reverse Boss Order  1208\n",
      "5 The Legend Of Zelda: Ocarina Of\\nTime / Master Quest All Dungeons  1047\n",
      "6                                     Super Mario Galaxy Any% Luigi   851\n"
     ]
    }
   ],
   "source": [
    "twoLine <- function(x, minchar) {\n",
    "    if (nchar(x) < minchar) {return (x)}\n",
    "    \n",
    "    middle_index <- round(nchar(x)/2)\n",
    "    \n",
    "    space_indices <- unlist(gregexpr(\" \", x))\n",
    "    replacement_index = space_indices[which(abs(space_indices-middle_index) == min(abs(space_indices-middle_index)))]\n",
    "\n",
    "    left <- substr(x, 1, replacement_index-1)\n",
    "    right <- substr(x, replacement_index+1, nchar(x))\n",
    "    \n",
    "    return(paste(left,right,sep='\\n'))\n",
    "    \n",
    "}\n",
    "\n",
    "df_bidrun <- df %>% group_by(run_during_donated) %>%\n",
    "                summarize(count=n()) %>%\n",
    "                arrange(desc(count)) %>%\n",
    "                head(15) %>%\n",
    "                mutate(run_during_donated = sapply(run_during_donated, twoLine,30)) %>%\n",
    "                mutate(run_during_donated = factor(run_during_donated, levels=rev(run_during_donated)))\n",
    "               \n",
    "\n",
    "print(df_bidrun %>% head())"
   ]
  },
  {
   "cell_type": "code",
   "execution_count": 166,
   "metadata": {
    "collapsed": false
   },
   "outputs": [],
   "source": [
    "plot <- ggplot(df_bidrun, aes(x=run_during_donated, y=count)) +\n",
    "            geom_bar(stat=\"identity\", fill=\"#e74c3c\") +\n",
    "            coord_flip() +\n",
    "            fte_theme() +\n",
    "            geom_text(aes(label=format(count, big.mark=\",\")), color=\"white\", hjust=1.5, family=\"Open Sans Condensed Bold\", size=2.5) +\n",
    "            theme(axis.title.y = element_blank(), axis.text.y = element_text(size=6)) +\n",
    "            labs(y=\"Total Number of Donations during Run\", title=\"AGDQ 2016 Runs Which Generated Most Donations\")\n",
    "\n",
    "max_save(plot, \"agdq-3\", \"Games Done Quick\", h=5)"
   ]
  },
  {
   "cell_type": "markdown",
   "metadata": {},
   "source": [
    "![](agdq-3.png)"
   ]
  },
  {
   "cell_type": "code",
   "execution_count": 183,
   "metadata": {
    "collapsed": false
   },
   "outputs": [
    {
     "name": "stdout",
     "output_type": "stream",
     "text": [
      "Source: local data frame [6 x 2]\n",
      "\n",
      "                                                 run_during_donated\n",
      "                                                             (fctr)\n",
      "1                         Final Fantasy Iv Any%\\nNo 64 Floor Glitch\n",
      "2                                 Super Metroid\\nReverse Boss Order\n",
      "3                 The Legend Of Zelda:\\nMajora's Mask 4p Co-Op 100%\n",
      "4       The Legend Of Zelda: A Link\\nTo The Past Reverse Boss Order\n",
      "5 The Legend Of Zelda: Ocarina Of\\nTime / Master Quest All Dungeons\n",
      "6                                 Tasbot Takes\\nTotal Control Of...\n",
      "Variables not shown: total_amount (dbl)\n"
     ]
    }
   ],
   "source": [
    "df_bidrun <- df %>% group_by(run_during_donated) %>%\n",
    "                summarize(total_amount = sum(amount_donated, na.rm=T)) %>%\n",
    "                arrange(desc(total_amount)) %>%\n",
    "                head(15) %>%\n",
    "                mutate(run_during_donated = sapply(run_during_donated, twoLine,30)) %>%\n",
    "                mutate(run_during_donated = factor(run_during_donated, levels=rev(run_during_donated)))\n",
    "               \n",
    "\n",
    "print(df_bidrun %>% head())"
   ]
  },
  {
   "cell_type": "code",
   "execution_count": 184,
   "metadata": {
    "collapsed": false
   },
   "outputs": [],
   "source": [
    "plot <- ggplot(df_bidrun, aes(x=run_during_donated, y=total_amount)) +\n",
    "            geom_bar(stat=\"identity\", fill=\"#2ecc71\") +\n",
    "            coord_flip() +\n",
    "            fte_theme() +\n",
    "            scale_y_continuous(labels=dollar) +\n",
    "            geom_text(aes(label=paste0(\"$\",format(round(total_amount), big.mark=\",\"))), color=\"white\", hjust=1.1, family=\"Open Sans Condensed Bold\", size=2.5) +\n",
    "            theme(axis.title.y = element_blank(), axis.text.y = element_text(size=6)) +\n",
    "            labs(y=\"Total $ Donated During Run\", title=\"AGDQ 2016 Runs Which Most $ Donated\")\n",
    "\n",
    "max_save(plot, \"agdq-4\", \"Games Done Quick\", h=5)"
   ]
  },
  {
   "cell_type": "markdown",
   "metadata": {},
   "source": [
    "![](agdq-4.png)"
   ]
  },
  {
   "cell_type": "code",
   "execution_count": 187,
   "metadata": {
    "collapsed": false
   },
   "outputs": [
    {
     "name": "stdout",
     "output_type": "stream",
     "text": [
      "Source: local data frame [6 x 2]\n",
      "\n",
      "                                                 bid_category total_amount\n",
      "                                                       (fctr)        (dbl)\n",
      "1                           Super Metroid\\nReverse Boss Order    315580.11\n",
      "2                   Final Fantasy Iv Any%\\nNo 64 Floor Glitch    171300.67\n",
      "3                                             Bloodborne Any%     50619.02\n",
      "4                  Super Mario Maker\\nCustom Level Blind Race     39482.81\n",
      "5 The Legend Of Zelda: A Link\\nTo The Past Reverse Boss Order     36248.11\n",
      "6                                 Tasbot Plays Brain Age X100     34746.61\n"
     ]
    }
   ],
   "source": [
    "df_bidcat <- df %>% group_by(bid_category) %>%\n",
    "                filter(bid_category!='') %>%\n",
    "                summarize(total_amount = sum(amount_donated, na.rm=T)) %>%\n",
    "                arrange(desc(total_amount)) %>%\n",
    "                head(10) %>%\n",
    "                mutate(bid_category = sapply(bid_category, twoLine,30)) %>%\n",
    "                mutate(bid_category = factor(bid_category, levels=rev(bid_category)))\n",
    "           \n",
    "\n",
    "print(df_bidcat %>% head())"
   ]
  },
  {
   "cell_type": "code",
   "execution_count": 188,
   "metadata": {
    "collapsed": false
   },
   "outputs": [],
   "source": [
    "left <- c(paste0(\"$\",format(round(df_bidcat$total_amount[1:2]), big.mark=\",\")), rep('',8))\n",
    "right <- c(rep('',2), paste0(\"$\",format(round(df_bidcat$total_amount[3:10]), big.mark=\",\")))\n",
    "\n",
    "plot <- ggplot(df_bidcat, aes(x=bid_category, y=total_amount)) +\n",
    "            geom_bar(stat=\"identity\", fill=\"#1abc9c\") +\n",
    "            coord_flip() +\n",
    "            fte_theme() +\n",
    "            scale_y_continuous(labels=dollar) +\n",
    "            geom_text(label=left, color=\"white\", hjust=1.1, family=\"Open Sans Condensed Bold\", size=2.5) +\n",
    "            geom_text(label=right, color=\"#1abc9c\", hjust=-0.2, family=\"Open Sans Condensed Bold\", size=2.5) +\n",
    "            theme(axis.title.y = element_blank(), axis.text.y = element_text(size=6)) +\n",
    "            labs(y=\"Total $ Donated Toward Incentive\", title=\"Top AGDQ 2016 Donation Run Incentives\")\n",
    "\n",
    "max_save(plot, \"agdq-5\", \"Games Done Quick\")"
   ]
  },
  {
   "cell_type": "markdown",
   "metadata": {},
   "source": [
    "![](agdq-5.png)"
   ]
  },
  {
   "cell_type": "code",
   "execution_count": 175,
   "metadata": {
    "collapsed": false
   },
   "outputs": [
    {
     "name": "stdout",
     "output_type": "stream",
     "text": [
      "Source: local data frame [6 x 2]\n",
      "\n",
      "                                      bid_choice total_amount\n",
      "                                          (fctr)        (dbl)\n",
      "1         Save or Kill the\\nAnimals -- Kill them    165885.12\n",
      "2         Save or Kill the\\nAnimals -- Save them    149694.99\n",
      "3                                  Fight Bahamut     21898.07\n",
      "4                           Twitch Helps Play...     21239.55\n",
      "5                    Mario Maker Hard Level race     20292.92\n",
      "6 Bonus Game - Pokemon\\nBlue (Glitch Exhibition)     20022.25\n"
     ]
    }
   ],
   "source": [
    "df_bidcat <- df %>% group_by(bid_choice) %>%\n",
    "                filter(bid_choice!='') %>%\n",
    "                summarize(total_amount = sum(amount_donated, na.rm=T)) %>%\n",
    "                arrange(desc(total_amount)) %>%\n",
    "                head(10) %>%\n",
    "                mutate(bid_choice = sapply(bid_choice, twoLine,30)) %>%\n",
    "                mutate(bid_choice = factor(bid_choice, levels=rev(bid_choice)))\n",
    "\n",
    "#cat(df_bidcat[2,1])\n",
    "               \n",
    "\n",
    "print(df_bidcat %>% head())"
   ]
  },
  {
   "cell_type": "code",
   "execution_count": 176,
   "metadata": {
    "collapsed": false
   },
   "outputs": [],
   "source": [
    "left <- c(paste0(\"$\",format(round(df_bidcat$total_amount[1:2]), big.mark=\",\")), rep('',8))\n",
    "right <- c(rep('',2), paste0(\"$\",format(round(df_bidcat$total_amount[3:10]), big.mark=\",\")))\n",
    "\n",
    "plot <- ggplot(df_bidcat, aes(x=bid_choice, y=total_amount)) +\n",
    "            geom_bar(stat=\"identity\", fill=\"#9b59b6\") +\n",
    "            coord_flip() +\n",
    "            fte_theme() +\n",
    "            scale_y_continuous(labels=dollar) +\n",
    "            geom_text(label=left, color=\"white\", hjust=1.1, family=\"Open Sans Condensed Bold\", size=2.5) +\n",
    "            geom_text(label=right, color=\"#9b59b6\", hjust=-0.2, family=\"Open Sans Condensed Bold\", size=2.5) +\n",
    "            theme(axis.title.y = element_blank(), axis.text.y = element_text(size=6)) +\n",
    "            labs(y=\"Total $ Donated Toward Choice\", title=\"Top AGDQ 2016 Donation Incentive Choices\")\n",
    "\n",
    "max_save(plot, \"agdq-6\", \"Games Done Quick\")"
   ]
  },
  {
   "cell_type": "markdown",
   "metadata": {},
   "source": [
    "![](agdq-6.png)"
   ]
  },
  {
   "cell_type": "code",
   "execution_count": 179,
   "metadata": {
    "collapsed": false
   },
   "outputs": [
    {
     "name": "stdout",
     "output_type": "stream",
     "text": [
      "words.vector\n",
      " cancer animals    time    good   great     run    agdq    kill    love    save \n",
      "   5970    5607    4354    4309    4237    3718    3679    3333    3197    3121 \n"
     ]
    }
   ],
   "source": [
    "stop_words <- unlist(strsplit(\"a,able,about,across,after,all,almost,also,am,among,an,and,any,are,as,at,be,because,been,but,by,can,cannot,could,dear,did,do,does,either,else,ever,every,for,from,get,got,had,has,have,he,her,hers,him,his,how,however,i,if,in,into,is,it,its,just,least,let,like,likely,may,me,might,most,must,my,neither,no,nor,not,of,off,often,on,only,or,other,our,own,rather,said,say,says,she,should,since,so,some,than,that,the,their,them,then,there,these,they,this,tis,to,too,twas,us,wants,was,we,were,what,when,where,which,while,who,whom,why,will,with,would,yet,you,your\", \",\"))\n",
    "\n",
    "words.list <- strsplit(tolower(as.character(df$comment)), split=\" \")\n",
    "words.vector <- unlist(words.list)\n",
    "words.vector <- apply(as.array(words.vector),1,function (x) {return (gsub(\"[^\\\\w\\\\']\",\"\",x, perl=T))})\n",
    "word.freq <- sort(table(words.vector),decreasing=TRUE)\n",
    "word.freq <- word.freq[-which(names(word.freq) %in% stop_words)]\n",
    "word.freq <- word.freq[which(word.freq>10)]\n",
    "\n",
    "print(word.freq[1:10])"
   ]
  },
  {
   "cell_type": "code",
   "execution_count": 180,
   "metadata": {
    "collapsed": false
   },
   "outputs": [
    {
     "data": {
      "text/html": [
       "<strong>pdf:</strong> 2"
      ],
      "text/latex": [
       "\\textbf{pdf:} 2"
      ],
      "text/markdown": [
       "**pdf:** 2"
      ],
      "text/plain": [
       "pdf \n",
       "  2 "
      ]
     },
     "execution_count": 180,
     "metadata": {},
     "output_type": "execute_result"
    }
   ],
   "source": [
    "library(wordcloud)\n",
    "\n",
    "pal <- brewer.pal(9, \"Blues\")\n",
    "pal <- pal[-c(1:3)]   # Remove light colors\n",
    "\n",
    "png(filename = \"agdq-7.png\", width = 1000, height = 1000, res= 300)\n",
    "\n",
    "wordcloud(toupper(names(word.freq)),\n",
    "          word.freq,\n",
    "          scale=c(3,.1),\n",
    "          random.order=F,\n",
    "          rot.per=.10,\n",
    "          max.words=5000,\n",
    "          colors=pal,\n",
    "          family=\"Source Sans Pro Bold\",\n",
    "          random.color=T)\n",
    "\n",
    "dev.off()"
   ]
  },
  {
   "cell_type": "markdown",
   "metadata": {},
   "source": [
    "![](agdq-7.png)"
   ]
  },
  {
   "cell_type": "markdown",
   "metadata": {},
   "source": [
    "# The MIT License (MIT)\n",
    "\n",
    "Copyright (c) 2016 Max Woolf\n",
    "\n",
    "Permission is hereby granted, free of charge, to any person obtaining a copy of this software and associated documentation files (the \"Software\"), to deal in the Software without restriction, including without limitation the rights to use, copy, modify, merge, publish, distribute, sublicense, and/or sell copies of the Software, and to permit persons to whom the Software is furnished to do so, subject to the following conditions:\n",
    "\n",
    "The above copyright notice and this permission notice shall be included in all copies or substantial portions of the Software.\n",
    "\n",
    "THE SOFTWARE IS PROVIDED \"AS IS\", WITHOUT WARRANTY OF ANY KIND, EXPRESS OR IMPLIED, INCLUDING BUT NOT LIMITED TO THE WARRANTIES OF MERCHANTABILITY, FITNESS FOR A PARTICULAR PURPOSE AND NONINFRINGEMENT. IN NO EVENT SHALL THE AUTHORS OR COPYRIGHT HOLDERS BE LIABLE FOR ANY CLAIM, DAMAGES OR OTHER LIABILITY, WHETHER IN AN ACTION OF CONTRACT, TORT OR OTHERWISE, ARISING FROM, OUT OF OR IN CONNECTION WITH THE SOFTWARE OR THE USE OR OTHER DEALINGS IN THE SOFTWARE."
   ]
  }
 ],
 "metadata": {
  "kernelspec": {
   "display_name": "R",
   "language": "R",
   "name": "ir"
  },
  "language_info": {
   "codemirror_mode": "r",
   "file_extension": ".r",
   "mimetype": "text/x-r-source",
   "name": "R",
   "pygments_lexer": "r",
   "version": "3.2.2"
  }
 },
 "nbformat": 4,
 "nbformat_minor": 0
}
